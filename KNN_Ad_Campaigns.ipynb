{
 "cells": [
  {
   "cell_type": "markdown",
   "id": "a443d1ac",
   "metadata": {},
   "source": [
    "# Facebook Ads and Sales Conversion\n",
    "\n",
    "What can we learn from a KNN cluster analysis about an anonymous organization's (Company XYZ) ad campaign? What will this tell us about its sales conversions?"
   ]
  },
  {
   "cell_type": "markdown",
   "id": "2611cedc-dc93-45e4-a8e9-1ffaf4ad687c",
   "metadata": {},
   "source": [
    "Import packages"
   ]
  },
  {
   "cell_type": "code",
   "execution_count": 1,
   "id": "d53d004c",
   "metadata": {},
   "outputs": [],
   "source": [
    "import pandas as pd\n",
    "import numpy as np\n",
    "import matplotlib.pyplot as plt\n",
    "import seaborn as sns\n",
    "%matplotlib inline\n",
    "from sklearn.preprocessing import StandardScaler\n",
    "from sklearn.model_selection import train_test_split\n",
    "from sklearn.neighbors import KNeighborsClassifier\n",
    "from sklearn.metrics import classification_report, confusion_matrix\n",
    "import warnings\n",
    "warnings.filterwarnings('ignore')"
   ]
  },
  {
   "cell_type": "markdown",
   "id": "154f2f8c-efc4-4778-9c10-07a14012bfee",
   "metadata": {},
   "source": [
    "Import dataset"
   ]
  },
  {
   "cell_type": "code",
   "execution_count": 2,
   "id": "46bdd45b",
   "metadata": {},
   "outputs": [
    {
     "data": {
      "text/html": [
       "<div>\n",
       "<style scoped>\n",
       "    .dataframe tbody tr th:only-of-type {\n",
       "        vertical-align: middle;\n",
       "    }\n",
       "\n",
       "    .dataframe tbody tr th {\n",
       "        vertical-align: top;\n",
       "    }\n",
       "\n",
       "    .dataframe thead th {\n",
       "        text-align: right;\n",
       "    }\n",
       "</style>\n",
       "<table border=\"1\" class=\"dataframe\">\n",
       "  <thead>\n",
       "    <tr style=\"text-align: right;\">\n",
       "      <th></th>\n",
       "      <th>ad_id</th>\n",
       "      <th>xyz_campaign_id</th>\n",
       "      <th>fb_campaign_id</th>\n",
       "      <th>age</th>\n",
       "      <th>gender</th>\n",
       "      <th>interest</th>\n",
       "      <th>Impressions</th>\n",
       "      <th>Clicks</th>\n",
       "      <th>Spent</th>\n",
       "      <th>Total_Conversion</th>\n",
       "      <th>Approved_Conversion</th>\n",
       "    </tr>\n",
       "  </thead>\n",
       "  <tbody>\n",
       "    <tr>\n",
       "      <th>0</th>\n",
       "      <td>708746</td>\n",
       "      <td>916</td>\n",
       "      <td>103916</td>\n",
       "      <td>30-34</td>\n",
       "      <td>M</td>\n",
       "      <td>15</td>\n",
       "      <td>7350</td>\n",
       "      <td>1</td>\n",
       "      <td>1.43</td>\n",
       "      <td>2</td>\n",
       "      <td>1</td>\n",
       "    </tr>\n",
       "    <tr>\n",
       "      <th>1</th>\n",
       "      <td>708749</td>\n",
       "      <td>916</td>\n",
       "      <td>103917</td>\n",
       "      <td>30-34</td>\n",
       "      <td>M</td>\n",
       "      <td>16</td>\n",
       "      <td>17861</td>\n",
       "      <td>2</td>\n",
       "      <td>1.82</td>\n",
       "      <td>2</td>\n",
       "      <td>0</td>\n",
       "    </tr>\n",
       "    <tr>\n",
       "      <th>2</th>\n",
       "      <td>708771</td>\n",
       "      <td>916</td>\n",
       "      <td>103920</td>\n",
       "      <td>30-34</td>\n",
       "      <td>M</td>\n",
       "      <td>20</td>\n",
       "      <td>693</td>\n",
       "      <td>0</td>\n",
       "      <td>0.00</td>\n",
       "      <td>1</td>\n",
       "      <td>0</td>\n",
       "    </tr>\n",
       "    <tr>\n",
       "      <th>3</th>\n",
       "      <td>708815</td>\n",
       "      <td>916</td>\n",
       "      <td>103928</td>\n",
       "      <td>30-34</td>\n",
       "      <td>M</td>\n",
       "      <td>28</td>\n",
       "      <td>4259</td>\n",
       "      <td>1</td>\n",
       "      <td>1.25</td>\n",
       "      <td>1</td>\n",
       "      <td>0</td>\n",
       "    </tr>\n",
       "    <tr>\n",
       "      <th>4</th>\n",
       "      <td>708818</td>\n",
       "      <td>916</td>\n",
       "      <td>103928</td>\n",
       "      <td>30-34</td>\n",
       "      <td>M</td>\n",
       "      <td>28</td>\n",
       "      <td>4133</td>\n",
       "      <td>1</td>\n",
       "      <td>1.29</td>\n",
       "      <td>1</td>\n",
       "      <td>1</td>\n",
       "    </tr>\n",
       "  </tbody>\n",
       "</table>\n",
       "</div>"
      ],
      "text/plain": [
       "    ad_id  xyz_campaign_id  fb_campaign_id    age gender  interest  \\\n",
       "0  708746              916          103916  30-34      M        15   \n",
       "1  708749              916          103917  30-34      M        16   \n",
       "2  708771              916          103920  30-34      M        20   \n",
       "3  708815              916          103928  30-34      M        28   \n",
       "4  708818              916          103928  30-34      M        28   \n",
       "\n",
       "   Impressions  Clicks  Spent  Total_Conversion  Approved_Conversion  \n",
       "0         7350       1   1.43                 2                    1  \n",
       "1        17861       2   1.82                 2                    0  \n",
       "2          693       0   0.00                 1                    0  \n",
       "3         4259       1   1.25                 1                    0  \n",
       "4         4133       1   1.29                 1                    1  "
      ]
     },
     "execution_count": 2,
     "metadata": {},
     "output_type": "execute_result"
    }
   ],
   "source": [
    "data = pd.read_csv(\"KAG_conversion_data.csv\")\n",
    "data.head()"
   ]
  },
  {
   "cell_type": "markdown",
   "id": "257ba671-74b2-4b54-9967-a3bc40a2dd9c",
   "metadata": {},
   "source": [
    "## Data Preprocessing"
   ]
  },
  {
   "cell_type": "code",
   "execution_count": 3,
   "id": "5efd6020",
   "metadata": {},
   "outputs": [
    {
     "data": {
      "text/plain": [
       "array([ 916,  936, 1178], dtype=int64)"
      ]
     },
     "execution_count": 3,
     "metadata": {},
     "output_type": "execute_result"
    }
   ],
   "source": [
    "# Determine categories in 'xyz_campaign_id' variable:\n",
    "data['xyz_campaign_id'].unique()"
   ]
  },
  {
   "cell_type": "markdown",
   "id": "d6a15112-578e-4415-ad80-4b0823354f2d",
   "metadata": {},
   "source": [
    "#### Convert variables to approprate formats "
   ]
  },
  {
   "cell_type": "code",
   "execution_count": 4,
   "id": "eb43bf41",
   "metadata": {},
   "outputs": [],
   "source": [
    "data['xyz_campaign_id'] = (data['xyz_campaign_id']).astype('category')\n",
    "data[\"xyz_campaign_id\"].replace({916:\"campaign_X\",936:\"campaign_Y\",1178:\"campaign_Z\"}, inplace=True)"
   ]
  },
  {
   "cell_type": "code",
   "execution_count": 5,
   "id": "2fdbbbf7",
   "metadata": {},
   "outputs": [
    {
     "data": {
      "text/plain": [
       "array(['30-34', '35-39', '40-44', '45-49'], dtype=object)"
      ]
     },
     "execution_count": 5,
     "metadata": {},
     "output_type": "execute_result"
    }
   ],
   "source": [
    "# determine categories in 'age' variable:\n",
    "data['age'].unique()"
   ]
  },
  {
   "cell_type": "code",
   "execution_count": 6,
   "id": "c0cfac47",
   "metadata": {},
   "outputs": [
    {
     "data": {
      "text/html": [
       "<div>\n",
       "<style scoped>\n",
       "    .dataframe tbody tr th:only-of-type {\n",
       "        vertical-align: middle;\n",
       "    }\n",
       "\n",
       "    .dataframe tbody tr th {\n",
       "        vertical-align: top;\n",
       "    }\n",
       "\n",
       "    .dataframe thead th {\n",
       "        text-align: right;\n",
       "    }\n",
       "</style>\n",
       "<table border=\"1\" class=\"dataframe\">\n",
       "  <thead>\n",
       "    <tr style=\"text-align: right;\">\n",
       "      <th></th>\n",
       "      <th>ad_id</th>\n",
       "      <th>xyz_campaign_id</th>\n",
       "      <th>fb_campaign_id</th>\n",
       "      <th>age</th>\n",
       "      <th>gender</th>\n",
       "      <th>interest</th>\n",
       "      <th>Impressions</th>\n",
       "      <th>Clicks</th>\n",
       "      <th>Spent</th>\n",
       "      <th>Total_Conversion</th>\n",
       "      <th>Approved_Conversion</th>\n",
       "      <th>ageR</th>\n",
       "    </tr>\n",
       "  </thead>\n",
       "  <tbody>\n",
       "    <tr>\n",
       "      <th>0</th>\n",
       "      <td>708746</td>\n",
       "      <td>campaign_X</td>\n",
       "      <td>103916</td>\n",
       "      <td>30-34</td>\n",
       "      <td>M</td>\n",
       "      <td>15</td>\n",
       "      <td>7350</td>\n",
       "      <td>1</td>\n",
       "      <td>1.43</td>\n",
       "      <td>2</td>\n",
       "      <td>1</td>\n",
       "      <td>32</td>\n",
       "    </tr>\n",
       "  </tbody>\n",
       "</table>\n",
       "</div>"
      ],
      "text/plain": [
       "    ad_id xyz_campaign_id  fb_campaign_id    age gender  interest  \\\n",
       "0  708746      campaign_X          103916  30-34      M        15   \n",
       "\n",
       "   Impressions  Clicks  Spent  Total_Conversion  Approved_Conversion  ageR  \n",
       "0         7350       1   1.43                 2                    1    32  "
      ]
     },
     "execution_count": 6,
     "metadata": {},
     "output_type": "execute_result"
    }
   ],
   "source": [
    "# recode 'age' into numeric 'average age'\n",
    "def mean_age (series):\n",
    "    if series == '30-34':\n",
    "        return 32\n",
    "    if series == '35-39':\n",
    "        return 37\n",
    "    if series == '40-44':\n",
    "        return 42\n",
    "    if series == '45-49':\n",
    "        return 47\n",
    "data['ageR'] = data['age'].apply(mean_age)\n",
    "data.head(1)"
   ]
  },
  {
   "cell_type": "code",
   "execution_count": 7,
   "id": "a813f58c",
   "metadata": {},
   "outputs": [
    {
     "data": {
      "text/plain": [
       "array([ 15,  16,  20,  28,  29,  27,  31,   7,  30,  24,  21,  32,  18,\n",
       "        63,  65,  25,  10,  19,  26,  36,  23,  64,  22,   2,  66, 100,\n",
       "       101, 102, 103, 105, 107, 110, 111, 112, 113, 108, 109, 114, 104,\n",
       "       106], dtype=int64)"
      ]
     },
     "execution_count": 7,
     "metadata": {},
     "output_type": "execute_result"
    }
   ],
   "source": [
    "data['interest'].unique()"
   ]
  },
  {
   "cell_type": "markdown",
   "id": "7ce56c20-be85-4138-926b-ec04b94941ff",
   "metadata": {},
   "source": [
    "#### Remove NA's and subset the data to only the variables needed"
   ]
  },
  {
   "cell_type": "code",
   "execution_count": 8,
   "id": "cfe4f831",
   "metadata": {
    "tags": []
   },
   "outputs": [
    {
     "data": {
      "text/html": [
       "<div>\n",
       "<style scoped>\n",
       "    .dataframe tbody tr th:only-of-type {\n",
       "        vertical-align: middle;\n",
       "    }\n",
       "\n",
       "    .dataframe tbody tr th {\n",
       "        vertical-align: top;\n",
       "    }\n",
       "\n",
       "    .dataframe thead th {\n",
       "        text-align: right;\n",
       "    }\n",
       "</style>\n",
       "<table border=\"1\" class=\"dataframe\">\n",
       "  <thead>\n",
       "    <tr style=\"text-align: right;\">\n",
       "      <th></th>\n",
       "      <th>ad_id</th>\n",
       "      <th>xyz_campaign_id</th>\n",
       "      <th>fb_campaign_id</th>\n",
       "      <th>age</th>\n",
       "      <th>gender</th>\n",
       "      <th>interest</th>\n",
       "      <th>Impressions</th>\n",
       "      <th>Clicks</th>\n",
       "      <th>Spent</th>\n",
       "      <th>Total_Conversion</th>\n",
       "      <th>Approved_Conversion</th>\n",
       "      <th>ageR</th>\n",
       "    </tr>\n",
       "  </thead>\n",
       "  <tbody>\n",
       "    <tr>\n",
       "      <th>0</th>\n",
       "      <td>708746</td>\n",
       "      <td>campaign_X</td>\n",
       "      <td>103916</td>\n",
       "      <td>30-34</td>\n",
       "      <td>M</td>\n",
       "      <td>15</td>\n",
       "      <td>7350</td>\n",
       "      <td>1</td>\n",
       "      <td>1.43</td>\n",
       "      <td>2</td>\n",
       "      <td>1</td>\n",
       "      <td>32</td>\n",
       "    </tr>\n",
       "    <tr>\n",
       "      <th>1</th>\n",
       "      <td>708749</td>\n",
       "      <td>campaign_X</td>\n",
       "      <td>103917</td>\n",
       "      <td>30-34</td>\n",
       "      <td>M</td>\n",
       "      <td>16</td>\n",
       "      <td>17861</td>\n",
       "      <td>2</td>\n",
       "      <td>1.82</td>\n",
       "      <td>2</td>\n",
       "      <td>0</td>\n",
       "      <td>32</td>\n",
       "    </tr>\n",
       "    <tr>\n",
       "      <th>2</th>\n",
       "      <td>708771</td>\n",
       "      <td>campaign_X</td>\n",
       "      <td>103920</td>\n",
       "      <td>30-34</td>\n",
       "      <td>M</td>\n",
       "      <td>20</td>\n",
       "      <td>693</td>\n",
       "      <td>0</td>\n",
       "      <td>0.00</td>\n",
       "      <td>1</td>\n",
       "      <td>0</td>\n",
       "      <td>32</td>\n",
       "    </tr>\n",
       "    <tr>\n",
       "      <th>3</th>\n",
       "      <td>708815</td>\n",
       "      <td>campaign_X</td>\n",
       "      <td>103928</td>\n",
       "      <td>30-34</td>\n",
       "      <td>M</td>\n",
       "      <td>28</td>\n",
       "      <td>4259</td>\n",
       "      <td>1</td>\n",
       "      <td>1.25</td>\n",
       "      <td>1</td>\n",
       "      <td>0</td>\n",
       "      <td>32</td>\n",
       "    </tr>\n",
       "    <tr>\n",
       "      <th>4</th>\n",
       "      <td>708818</td>\n",
       "      <td>campaign_X</td>\n",
       "      <td>103928</td>\n",
       "      <td>30-34</td>\n",
       "      <td>M</td>\n",
       "      <td>28</td>\n",
       "      <td>4133</td>\n",
       "      <td>1</td>\n",
       "      <td>1.29</td>\n",
       "      <td>1</td>\n",
       "      <td>1</td>\n",
       "      <td>32</td>\n",
       "    </tr>\n",
       "  </tbody>\n",
       "</table>\n",
       "</div>"
      ],
      "text/plain": [
       "    ad_id xyz_campaign_id  fb_campaign_id    age gender  interest  \\\n",
       "0  708746      campaign_X          103916  30-34      M        15   \n",
       "1  708749      campaign_X          103917  30-34      M        16   \n",
       "2  708771      campaign_X          103920  30-34      M        20   \n",
       "3  708815      campaign_X          103928  30-34      M        28   \n",
       "4  708818      campaign_X          103928  30-34      M        28   \n",
       "\n",
       "   Impressions  Clicks  Spent  Total_Conversion  Approved_Conversion  ageR  \n",
       "0         7350       1   1.43                 2                    1    32  \n",
       "1        17861       2   1.82                 2                    0    32  \n",
       "2          693       0   0.00                 1                    0    32  \n",
       "3         4259       1   1.25                 1                    0    32  \n",
       "4         4133       1   1.29                 1                    1    32  "
      ]
     },
     "execution_count": 8,
     "metadata": {},
     "output_type": "execute_result"
    }
   ],
   "source": [
    "data = data.dropna()\n",
    "data.head()"
   ]
  },
  {
   "cell_type": "markdown",
   "id": "6704f6e5-f56a-410c-8527-34423c23e720",
   "metadata": {},
   "source": [
    "## Exploratory Analysis"
   ]
  },
  {
   "cell_type": "code",
   "execution_count": 9,
   "id": "3333f56b-b738-4f31-a0c5-9c33fa269d2b",
   "metadata": {},
   "outputs": [
    {
     "data": {
      "text/html": [
       "<div>\n",
       "<style scoped>\n",
       "    .dataframe tbody tr th:only-of-type {\n",
       "        vertical-align: middle;\n",
       "    }\n",
       "\n",
       "    .dataframe tbody tr th {\n",
       "        vertical-align: top;\n",
       "    }\n",
       "\n",
       "    .dataframe thead th {\n",
       "        text-align: right;\n",
       "    }\n",
       "</style>\n",
       "<table border=\"1\" class=\"dataframe\">\n",
       "  <thead>\n",
       "    <tr style=\"text-align: right;\">\n",
       "      <th></th>\n",
       "      <th>ad_id</th>\n",
       "      <th>fb_campaign_id</th>\n",
       "      <th>interest</th>\n",
       "      <th>Impressions</th>\n",
       "      <th>Clicks</th>\n",
       "      <th>Spent</th>\n",
       "      <th>Total_Conversion</th>\n",
       "      <th>Approved_Conversion</th>\n",
       "      <th>ageR</th>\n",
       "    </tr>\n",
       "  </thead>\n",
       "  <tbody>\n",
       "    <tr>\n",
       "      <th>count</th>\n",
       "      <td>1.143000e+03</td>\n",
       "      <td>1143.000000</td>\n",
       "      <td>1143.000000</td>\n",
       "      <td>1.143000e+03</td>\n",
       "      <td>1143.000000</td>\n",
       "      <td>1143.000000</td>\n",
       "      <td>1143.000000</td>\n",
       "      <td>1143.000000</td>\n",
       "      <td>1143.000000</td>\n",
       "    </tr>\n",
       "    <tr>\n",
       "      <th>mean</th>\n",
       "      <td>9.872611e+05</td>\n",
       "      <td>133783.989501</td>\n",
       "      <td>32.766404</td>\n",
       "      <td>1.867321e+05</td>\n",
       "      <td>33.390201</td>\n",
       "      <td>51.360656</td>\n",
       "      <td>2.855643</td>\n",
       "      <td>0.944007</td>\n",
       "      <td>38.321085</td>\n",
       "    </tr>\n",
       "    <tr>\n",
       "      <th>std</th>\n",
       "      <td>1.939928e+05</td>\n",
       "      <td>20500.308622</td>\n",
       "      <td>26.952131</td>\n",
       "      <td>3.127622e+05</td>\n",
       "      <td>56.892438</td>\n",
       "      <td>86.908418</td>\n",
       "      <td>4.483593</td>\n",
       "      <td>1.737708</td>\n",
       "      <td>5.903868</td>\n",
       "    </tr>\n",
       "    <tr>\n",
       "      <th>min</th>\n",
       "      <td>7.087460e+05</td>\n",
       "      <td>103916.000000</td>\n",
       "      <td>2.000000</td>\n",
       "      <td>8.700000e+01</td>\n",
       "      <td>0.000000</td>\n",
       "      <td>0.000000</td>\n",
       "      <td>0.000000</td>\n",
       "      <td>0.000000</td>\n",
       "      <td>32.000000</td>\n",
       "    </tr>\n",
       "    <tr>\n",
       "      <th>25%</th>\n",
       "      <td>7.776325e+05</td>\n",
       "      <td>115716.000000</td>\n",
       "      <td>16.000000</td>\n",
       "      <td>6.503500e+03</td>\n",
       "      <td>1.000000</td>\n",
       "      <td>1.480000</td>\n",
       "      <td>1.000000</td>\n",
       "      <td>0.000000</td>\n",
       "      <td>32.000000</td>\n",
       "    </tr>\n",
       "    <tr>\n",
       "      <th>50%</th>\n",
       "      <td>1.121185e+06</td>\n",
       "      <td>144549.000000</td>\n",
       "      <td>25.000000</td>\n",
       "      <td>5.150900e+04</td>\n",
       "      <td>8.000000</td>\n",
       "      <td>12.370000</td>\n",
       "      <td>1.000000</td>\n",
       "      <td>1.000000</td>\n",
       "      <td>37.000000</td>\n",
       "    </tr>\n",
       "    <tr>\n",
       "      <th>75%</th>\n",
       "      <td>1.121804e+06</td>\n",
       "      <td>144657.500000</td>\n",
       "      <td>31.000000</td>\n",
       "      <td>2.217690e+05</td>\n",
       "      <td>37.500000</td>\n",
       "      <td>60.025000</td>\n",
       "      <td>3.000000</td>\n",
       "      <td>1.000000</td>\n",
       "      <td>42.000000</td>\n",
       "    </tr>\n",
       "    <tr>\n",
       "      <th>max</th>\n",
       "      <td>1.314415e+06</td>\n",
       "      <td>179982.000000</td>\n",
       "      <td>114.000000</td>\n",
       "      <td>3.052003e+06</td>\n",
       "      <td>421.000000</td>\n",
       "      <td>639.949998</td>\n",
       "      <td>60.000000</td>\n",
       "      <td>21.000000</td>\n",
       "      <td>47.000000</td>\n",
       "    </tr>\n",
       "  </tbody>\n",
       "</table>\n",
       "</div>"
      ],
      "text/plain": [
       "              ad_id  fb_campaign_id     interest   Impressions       Clicks  \\\n",
       "count  1.143000e+03     1143.000000  1143.000000  1.143000e+03  1143.000000   \n",
       "mean   9.872611e+05   133783.989501    32.766404  1.867321e+05    33.390201   \n",
       "std    1.939928e+05    20500.308622    26.952131  3.127622e+05    56.892438   \n",
       "min    7.087460e+05   103916.000000     2.000000  8.700000e+01     0.000000   \n",
       "25%    7.776325e+05   115716.000000    16.000000  6.503500e+03     1.000000   \n",
       "50%    1.121185e+06   144549.000000    25.000000  5.150900e+04     8.000000   \n",
       "75%    1.121804e+06   144657.500000    31.000000  2.217690e+05    37.500000   \n",
       "max    1.314415e+06   179982.000000   114.000000  3.052003e+06   421.000000   \n",
       "\n",
       "             Spent  Total_Conversion  Approved_Conversion         ageR  \n",
       "count  1143.000000       1143.000000          1143.000000  1143.000000  \n",
       "mean     51.360656          2.855643             0.944007    38.321085  \n",
       "std      86.908418          4.483593             1.737708     5.903868  \n",
       "min       0.000000          0.000000             0.000000    32.000000  \n",
       "25%       1.480000          1.000000             0.000000    32.000000  \n",
       "50%      12.370000          1.000000             1.000000    37.000000  \n",
       "75%      60.025000          3.000000             1.000000    42.000000  \n",
       "max     639.949998         60.000000            21.000000    47.000000  "
      ]
     },
     "execution_count": 9,
     "metadata": {},
     "output_type": "execute_result"
    }
   ],
   "source": [
    "data.describe()"
   ]
  },
  {
   "cell_type": "code",
   "execution_count": 10,
   "id": "255767e5-fe03-49ad-88d5-c736eed34da2",
   "metadata": {},
   "outputs": [
    {
     "data": {
      "image/png": "[encoded data removed]",
      "text/plain": [
       "<Figure size 432x288 with 2 Axes>"
      ]
     },
     "metadata": {
      "needs_background": "light"
     },
     "output_type": "display_data"
    }
   ],
   "source": [
    "g=sns.heatmap(data[[\"Impressions\",\"Clicks\",\"Spent\",\"Total_Conversion\",\"Approved_Conversion\"]].corr(),annot=True ,fmt=\".2f\", cmap=\"coolwarm\")"
   ]
  },
  {
   "cell_type": "markdown",
   "id": "fad06da0-6f69-4781-a144-098ae8c6db55",
   "metadata": {},
   "source": [
    "Key Observations:\n",
    "\n",
    "- Impressions correlate highly with clicks and with amount spent\n",
    "    \n",
    "- Clicks correlate highly with amount spent\n",
    "    \n",
    "- individual sales correlate highly with impressions"
   ]
  },
  {
   "cell_type": "markdown",
   "id": "5fd9dddc-9268-4788-b191-da0e7a44647c",
   "metadata": {},
   "source": [
    "## Campaigns"
   ]
  },
  {
   "cell_type": "code",
   "execution_count": 11,
   "id": "b5da5654-c435-4e7f-a9dc-c65f6fca81b0",
   "metadata": {},
   "outputs": [
    {
     "data": {
      "image/png": "[encoded data removed]",
      "text/plain": [
       "<Figure size 432x288 with 1 Axes>"
      ]
     },
     "metadata": {
      "needs_background": "light"
     },
     "output_type": "display_data"
    }
   ],
   "source": [
    "# count plot on single categorical variable \n",
    "sns.countplot(x ='xyz_campaign_id', data = data) \n",
    "# Show the plot \n",
    "plt.title(\"How much info do we have for each ad campaign?\", size = 15, pad = 20)\n",
    "plt.show() \n"
   ]
  },
  {
   "cell_type": "markdown",
   "id": "4e6d8982-7343-4ada-87a5-0463389297c1",
   "metadata": {},
   "source": [
    "Campaign Z has the greatest presence in the dataset, so more information is available for that campaign compared to campaigns X and Y."
   ]
  },
  {
   "cell_type": "code",
   "execution_count": 34,
   "id": "df62c32f-8b8c-4fa0-8853-53b4ef348d29",
   "metadata": {},
   "outputs": [],
   "source": [
    "# Calculate customer acquisition cost and append to dataset\n",
    "data['cac'] = data['Spent']/data['Approved_Conversion']"
   ]
  },
  {
   "cell_type": "code",
   "execution_count": 33,
   "id": "14f106d3-53da-4c3d-be4b-23fe7b12c9c0",
   "metadata": {
    "tags": []
   },
   "outputs": [
    {
     "data": {
      "image/png": "[encoded data removed]",
      "text/plain": [
       "<Figure size 432x288 with 1 Axes>"
      ]
     },
     "metadata": {
      "needs_background": "light"
     },
     "output_type": "display_data"
    }
   ],
   "source": [
    "# Plot a barchart for customer acquisition cost according to campaign\n",
    "plt.bar(data[\"xyz_campaign_id\"], data['Spent']/data[\"Approved_Conversion\"])\n",
    "plt.ylabel(\"Approved_Conversion\")\n",
    "plt.title(\"Campaign Efficacy\", size = 20, pad = 20)\n",
    "plt.ylabel(\"Customer Acquisition Cost (CAC)\",size = 14)\n",
    "plt.xticks(size = 12)\n",
    "plt.show()"
   ]
  },
  {
   "cell_type": "markdown",
   "id": "c194d7a1-eda4-459c-b3ed-6c8ae32cc897",
   "metadata": {},
   "source": [
    "Here, efficacy for each campaign is shown by charting the campaign ID against the Customer Acquisition Cost (CAC), also known as the amount spent on the advertisement divided by the number of approved customer conversions. "
   ]
  },
  {
   "cell_type": "markdown",
   "id": "9009bdfa-58cf-4094-a6ed-77812512323b",
   "metadata": {},
   "source": [
    "## Gender"
   ]
  },
  {
   "cell_type": "code",
   "execution_count": 14,
   "id": "d27ca5e8-860d-4a58-b8d0-05b236fd94ac",
   "metadata": {},
   "outputs": [
    {
     "data": {
      "image/png": "[encoded data removed]",
      "text/plain": [
       "<Figure size 432x288 with 1 Axes>"
      ]
     },
     "metadata": {
      "needs_background": "light"
     },
     "output_type": "display_data"
    }
   ],
   "source": [
    "# count plot on single categorical variable \n",
    "sns.countplot(x ='xyz_campaign_id', data = data, hue = 'gender') \n",
    "# Show the plot \n",
    "plt.title(\"How does gender vary according to campaign?\", size = 15, pad = 20)\n",
    "plt.show() "
   ]
  },
  {
   "cell_type": "markdown",
   "id": "3bd9aa53-b05d-40c4-8efb-5869143cff05",
   "metadata": {},
   "source": [
    "Campaign Y holds greater popularity among females. Campaign X and Campaign Z appeal more to males."
   ]
  },
  {
   "cell_type": "markdown",
   "id": "bd134fe6-135f-44f8-812a-f8db946d189b",
   "metadata": {},
   "source": [
    "## Interest"
   ]
  },
  {
   "cell_type": "code",
   "execution_count": 52,
   "id": "f416ad4f-8c51-48e6-9ed7-c10c85aa37bc",
   "metadata": {
    "tags": []
   },
   "outputs": [
    {
     "data": {
      "image/png": "[encoded data removed]",
      "text/plain": [
       "<Figure size 1440x432 with 1 Axes>"
      ]
     },
     "metadata": {
      "needs_background": "light"
     },
     "output_type": "display_data"
    }
   ],
   "source": [
    "# count plot on single categorical variable \n",
    "fig_dims = (20,6)\n",
    "fig, ax = plt.subplots(figsize=fig_dims)\n",
    "sns.countplot(x ='interest', data = data, order=data['interest'].value_counts().index)\n",
    "plt.title(\"Popular Interests among Buyers\", size = 20, pad = 20)\n",
    "plt.xlabel(\"Interest Category\", size = 14, labelpad = 20)\n",
    "plt.ylabel(\"count\", size = 14, labelpad = 15)\n",
    "# Show the plot \n",
    "plt.show() "
   ]
  },
  {
   "cell_type": "markdown",
   "id": "50bb4e64-de85-4d3e-ba17-14ae5ef013a3",
   "metadata": {},
   "source": [
    "## Amount Spent"
   ]
  },
  {
   "cell_type": "code",
   "execution_count": 71,
   "id": "719c4792-52b6-4a46-908c-a897b16a1a39",
   "metadata": {},
   "outputs": [
    {
     "data": {
      "image/png": "[encoded data removed]",
      "text/plain": [
       "<Figure size 1440x432 with 1 Axes>"
      ]
     },
     "metadata": {
      "needs_background": "light"
     },
     "output_type": "display_data"
    }
   ],
   "source": [
    "# count plot on single categorical variable \n",
    "fig_dims = (20,6)\n",
    "fig, ax = plt.subplots(figsize=fig_dims)\n",
    "sns.barplot(x = 'Approved_Conversion', y = 'age', data = data, ci = None, hue = 'gender')\n",
    "plt.title(\"Approved Conversions by Age Group and Gender\", size = 20, pad = 20)\n",
    "plt.xlabel(\"approved conversion\", size = 14, labelpad = 20)\n",
    "plt.ylabel(\"Age Group\", size = 14, labelpad = 15)\n",
    "# Show the plot \n",
    "plt.show() "
   ]
  },
  {
   "cell_type": "code",
   "execution_count": null,
   "id": "e287aece-19f0-4f87-9753-406cb2771535",
   "metadata": {},
   "outputs": [],
   "source": [
    "# Subset the data\n",
    "data2 = data[['Impressions','Clicks','Spent','Total_Conversion','Approved_Conversion']]"
   ]
  },
  {
   "cell_type": "code",
   "execution_count": null,
   "id": "c23778db-b58f-4a70-9322-cce63405a22e",
   "metadata": {},
   "outputs": [],
   "source": [
    "# Create a function to graph them on a boxplot. \n",
    "for column in data2:\n",
    "        plt.figure(figsize=(15,.6))\n",
    "        sns.set(rc={'axes.facecolor':'white', 'figure.facecolor':'white'})\n",
    "        sns.set_palette(\"colorblind\")\n",
    "        sns.boxplot(data=df1, x=column)\n",
    "        # format boxplots\n",
    "        plt.title(column, pad = 18, color = 'black', size = 22)\n",
    "        plt.xticks(color = 'dimgrey', size = 15)\n",
    "        plt.xlabel(column, color = 'white')"
   ]
  },
  {
   "cell_type": "markdown",
   "id": "668f1bb4-155c-41dc-b696-22502ed92ad3",
   "metadata": {},
   "source": [
    "## Quick takeaways\n",
    "- campaign Z has the greatest efficacy (customer acquistion cost / amount spent to display the ad)\n",
    "- Campaign Y is more popular with females. Campaigns X and Z with males\n",
    "- Females make more purchases than males for each age range. \n",
    "- 30- to 34-year-olds make more purchases than any other age group.\n",
    "- The top three interest categories (listed greatest to least) are 16, 10 and 29"
   ]
  },
  {
   "cell_type": "markdown",
   "id": "8084573c-0471-42c8-9c8b-ba703a72dc47",
   "metadata": {},
   "source": [
    "# Modeling"
   ]
  },
  {
   "cell_type": "code",
   "execution_count": null,
   "id": "31ca6789",
   "metadata": {},
   "outputs": [],
   "source": [
    "# Recode 'gender' variable as type numeric:\n",
    "def gender (series):\n",
    "    if series == 'M':\n",
    "        return 0\n",
    "    if series == 'F':\n",
    "        return 1\n",
    "data['genderR'] = data['gender'].apply(gender)\n",
    "# check work\n",
    "data.head(2)"
   ]
  },
  {
   "cell_type": "markdown",
   "id": "020b0c6c-7bb9-4ffc-aeb2-6a585337b1cb",
   "metadata": {},
   "source": [
    "#### Scale the data"
   ]
  },
  {
   "cell_type": "code",
   "execution_count": null,
   "id": "a839e6b6-6062-478c-b88c-bc31f0753685",
   "metadata": {},
   "outputs": [],
   "source": [
    "data_cleaned = data[['xyz_campaign_id','Impressions','Clicks','Spent','Total_Conversion','Approved_Conversion','genderR','ageR','interest']]"
   ]
  },
  {
   "cell_type": "code",
   "execution_count": null,
   "id": "b077bf13",
   "metadata": {},
   "outputs": [],
   "source": [
    "scaler = StandardScaler()\n",
    "scaler.fit(data_cleaned.drop('xyz_campaign_id', axis = 1))\n",
    "scaledVariables = scaler.transform(data_cleaned.drop('xyz_campaign_id', axis=1))\n",
    "data_cleaned_scaled = pd.DataFrame(scaledVariables, columns=['Impressions','Clicks','Spent','Total_Conversion','Approved_Conversion','genderR','ageR','interest'])\n",
    "data_cleaned_scaled.head()"
   ]
  },
  {
   "cell_type": "markdown",
   "id": "493540e0-ca65-4356-a8b1-96720f6539a7",
   "metadata": {},
   "source": [
    "#### Create the x and y datasets"
   ]
  },
  {
   "cell_type": "code",
   "execution_count": null,
   "id": "9da8f154",
   "metadata": {},
   "outputs": [],
   "source": [
    "x = data_cleaned_scaled[['Impressions','Clicks','Spent','Total_Conversion','Approved_Conversion','genderR','ageR','interest']]\n",
    "y = data_cleaned['xyz_campaign_id']"
   ]
  },
  {
   "cell_type": "markdown",
   "id": "3af1c285-6024-4442-a3f5-14f7477ed838",
   "metadata": {},
   "source": [
    "#### Train/Test Split"
   ]
  },
  {
   "cell_type": "code",
   "execution_count": null,
   "id": "3d32e838",
   "metadata": {},
   "outputs": [],
   "source": [
    "x_train, x_test, y_train, y_test = train_test_split( x, y, test_size = 0.3 )"
   ]
  },
  {
   "cell_type": "markdown",
   "id": "bf88ecc2-4588-4f9b-8197-4a0d83e7adb2",
   "metadata": {},
   "source": [
    "## KNN Analysis"
   ]
  },
  {
   "cell_type": "code",
   "execution_count": null,
   "id": "624d308c",
   "metadata": {},
   "outputs": [],
   "source": [
    "# Import KNN Classifier\n",
    "from sklearn.neighbors import KNeighborsClassifier\n",
    "\n",
    "# Create K values (1-50) & Create Arrays to store train/test performance accuracy\n",
    "k = np.arange(1,50)\n",
    "train_accuracy = np.empty(len(k))\n",
    "test_accuracy = np.empty(len(k))\n",
    "\n",
    "for i,k in enumerate(k):\n",
    "    # Instantiate NN Classifier with K Neighbors\n",
    "    knn = KNeighborsClassifier(n_neighbors=k)\n",
    "    \n",
    "    # Fit KNN model\n",
    "    knn.fit(x_train, y_train)\n",
    "    \n",
    "    # Evaluate train performance \n",
    "    train_accuracy[i] = knn.score(x_train, y_train)\n",
    "    \n",
    "    # Evaluate test performance\n",
    "    test_accuracy[i] = knn.score(x_test, y_test) "
   ]
  },
  {
   "cell_type": "markdown",
   "id": "c0689030-8607-4867-a4ca-251a274fd04d",
   "metadata": {},
   "source": [
    "## Interpret the KNN predictions"
   ]
  },
  {
   "cell_type": "code",
   "execution_count": null,
   "id": "558f677a",
   "metadata": {},
   "outputs": [],
   "source": [
    "# Visualize Train/Test Performance\n",
    "k = np.arange(1,50)\n",
    "plt.title('k-NN Varying number of neighbors')\n",
    "plt.plot(k, test_accuracy, label='Testing Accuracy')\n",
    "plt.plot(k, train_accuracy, label='Training accuracy')\n",
    "plt.legend()\n",
    "plt.xlabel('Number of K-Neighbors')\n",
    "plt.ylabel('Accuracy')\n",
    "plt.show()"
   ]
  },
  {
   "cell_type": "code",
   "execution_count": null,
   "id": "a00b5710",
   "metadata": {},
   "outputs": [],
   "source": [
    "#import GridSearchCV\n",
    "from sklearn.model_selection import GridSearchCV\n",
    "\n",
    "leaf_size = list(range(1,50))\n",
    "n_neighbors = list(range(1,50))\n",
    "p=[1,2]\n",
    "#Convert to dictionary\n",
    "hyperparameters = dict(leaf_size=leaf_size, n_neighbors=n_neighbors, p=p)\n",
    "#Create new KNN object\n",
    "knn_2 = KNeighborsClassifier()\n",
    "#Use GridSearch\n",
    "clf = GridSearchCV(knn_2, hyperparameters, cv=3)\n",
    "#Fit the model\n",
    "best_model = clf.fit(x,y)\n",
    "#Print The value of best Hyperparameters\n",
    "print('Best leaf_size:', best_model.best_estimator_.get_params()['leaf_size'])\n",
    "print('Best p:', best_model.best_estimator_.get_params()['p'])\n",
    "print('Best n_neighbors:', best_model.best_estimator_.get_params()['n_neighbors'])"
   ]
  },
  {
   "cell_type": "code",
   "execution_count": null,
   "id": "67dda415",
   "metadata": {},
   "outputs": [],
   "source": [
    "knn = KNeighborsClassifier(n_neighbors=31,p=1,leaf_size=1)\n",
    "knn.fit(x_train, y_train)\n",
    "pred = knn.predict(x_test)\n",
    "print(confusion_matrix(y_test, pred))"
   ]
  },
  {
   "cell_type": "code",
   "execution_count": null,
   "id": "c8fc734b",
   "metadata": {},
   "outputs": [],
   "source": [
    "print(classification_report(y_test,pred))"
   ]
  },
  {
   "cell_type": "code",
   "execution_count": null,
   "id": "1e5556e7",
   "metadata": {},
   "outputs": [],
   "source": []
  }
 ],
 "metadata": {
  "kernelspec": {
   "display_name": "Python 3 (ipykernel)",
   "language": "python",
   "name": "python3"
  },
  "language_info": {
   "codemirror_mode": {
    "name": "ipython",
    "version": 3
   },
   "file_extension": ".py",
   "mimetype": "text/x-python",
   "name": "python",
   "nbconvert_exporter": "python",
   "pygments_lexer": "ipython3",
   "version": "3.10.4"
  }
 },
 "nbformat": 4,
 "nbformat_minor": 5
}
